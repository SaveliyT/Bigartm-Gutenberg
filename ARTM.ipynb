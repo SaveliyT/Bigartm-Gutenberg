{
 "cells": [
  {
   "cell_type": "code",
   "execution_count": 1,
   "metadata": {},
   "outputs": [],
   "source": [
    "import artm\n",
    "import os\n",
    "import shutil\n",
    "\n",
    "from matplotlib import pyplot as plt\n",
    "%matplotlib inline"
   ]
  },
  {
   "cell_type": "code",
   "execution_count": null,
   "metadata": {},
   "outputs": [],
   "source": [
    "target_folder = os.curdir + '/' +'gutenberg_batches'\n",
    "shutil.rmtree(target_folder)\n",
    "os.mkdir(target_folder)\n",
    "batch_vectorizer = artm.BatchVectorizer(data_path='vw_gutenberg.txt', data_format='vowpal_wabbit', \n",
    "                                        target_folder=target_folder, batch_size=100)"
   ]
  },
  {
   "cell_type": "code",
   "execution_count": 3,
   "metadata": {},
   "outputs": [],
   "source": [
    "target_folder = os.curdir + '/' +'gutenberg_batches'\n",
    "batch_vectorizer = artm.BatchVectorizer(data_path = target_folder, data_format='batches')"
   ]
  },
  {
   "cell_type": "code",
   "execution_count": 57,
   "metadata": {},
   "outputs": [],
   "source": [
    "#model.dispose()\n",
    "topics = 100\n",
    "model = artm.ARTM(num_topics=topics, topic_names=['Topic' + str(i) for i in range(topics)], \n",
    "                  num_document_passes=1, reuse_theta=True, cache_theta=True, seed=-1, class_ids={\"text\":1})"
   ]
  },
  {
   "cell_type": "code",
   "execution_count": 58,
   "metadata": {},
   "outputs": [],
   "source": [
    "dictionary = artm.Dictionary('dictionary')\n",
    "dictionary.gather(batch_vectorizer.data_path)"
   ]
  },
  {
   "cell_type": "code",
   "execution_count": 59,
   "metadata": {},
   "outputs": [],
   "source": [
    "model.scores.add(artm.PerplexityScore(name='PerplexityScore', dictionary='dictionary'), overwrite=True)\n",
    "model.scores.add(artm.SparsityPhiScore(name='SparsityPhiScore', class_id='text'), overwrite=True)\n",
    "model.scores.add(artm.SparsityThetaScore(name='SparsityThetaScore'), overwrite=True)\n",
    "model.scores.add(artm.TopTokensScore(name=\"top_words\", num_tokens=10, class_id=\"text\"), overwrite=True)"
   ]
  },
  {
   "cell_type": "code",
   "execution_count": 60,
   "metadata": {},
   "outputs": [],
   "source": [
    "model.initialize('dictionary')"
   ]
  },
  {
   "cell_type": "code",
   "execution_count": 61,
   "metadata": {},
   "outputs": [],
   "source": [
    "model.fit_offline(batch_vectorizer=batch_vectorizer, num_collection_passes=20)"
   ]
  },
  {
   "cell_type": "code",
   "execution_count": 62,
   "metadata": {},
   "outputs": [
    {
     "data": {
      "text/plain": [
       "[<matplotlib.lines.Line2D at 0x7f2ee740b890>]"
      ]
     },
     "execution_count": 62,
     "metadata": {},
     "output_type": "execute_result"
    },
    {
     "data": {
      "image/png": "[encoded data removed]",
      "text/plain": [
       "<matplotlib.figure.Figure at 0x7f2f0854f850>"
      ]
     },
     "metadata": {},
     "output_type": "display_data"
    }
   ],
   "source": [
    "plt.plot(model.score_tracker[\"PerplexityScore\"].value[1:])"
   ]
  },
  {
   "cell_type": "code",
   "execution_count": 63,
   "metadata": {},
   "outputs": [
    {
     "name": "stdout",
     "output_type": "stream",
     "text": [
      "Topic0:  said man littl see one say hand know come went\n",
      "Topic1:  one give much everi new came thought old men two\n",
      "Topic2:  one make much two seem upon look man littl last\n",
      "Topic3:  nation total product parti per industri km million growth econom\n",
      "Topic4:  one state like project new unit go power even public\n",
      "Topic5:  said may upon first time everi man never make came\n",
      "Topic6:  may state one gener time work power first chang unit\n",
      "Topic7:  like know day littl may went great get men good\n",
      "Topic8:  one said mr like littl upon go look call may\n",
      "Topic9:  one may see much made seem like even thought ladi\n",
      "Topic10:  new construct organ result product member industri liber state nation\n",
      "Topic11:  great one man everi never without time upon even look\n",
      "Topic12:  one ladi add go never like gervais littl serv old\n",
      "Topic13:  chang subhead tariff item articl method mexican provid transact region\n",
      "Topic14:  may work great like never time think without man much\n",
      "Topic15:  upon like may make new one mr come till still\n",
      "Topic16:  one littl go upon come went look take made great\n",
      "Topic17:  said upon one know come time make like ask good\n",
      "Topic18:  one said man go make may great come two even\n",
      "Topic19:  roman emperor hundr reign citi honor christian rome power may\n"
     ]
    }
   ],
   "source": [
    "for topic_name in model.topic_names[:20]:\n",
    "    print topic_name + ': ',\n",
    "    tokens = model.score_tracker[\"top_words\"].last_tokens\n",
    "    for word in tokens[topic_name]:    \n",
    "        print word,\n",
    "    print\n",
    "    "
   ]
  },
  {
   "cell_type": "code",
   "execution_count": 64,
   "metadata": {},
   "outputs": [
    {
     "name": "stdout",
     "output_type": "stream",
     "text": [
      "0.385466288351\n",
      "0.0\n"
     ]
    }
   ],
   "source": [
    "print model.score_tracker[\"SparsityPhiScore\"].last_value\n",
    "print model.score_tracker[\"SparsityThetaScore\"].last_value\n"
   ]
  },
  {
   "cell_type": "code",
   "execution_count": 65,
   "metadata": {},
   "outputs": [],
   "source": [
    "model.regularizers.add(artm.SmoothSparsePhiRegularizer(name='SparsePhi', tau=-10, \n",
    "                                                            dictionary=dictionary),overwrite=True)"
   ]
  },
  {
   "cell_type": "code",
   "execution_count": 66,
   "metadata": {},
   "outputs": [
    {
     "name": "stdout",
     "output_type": "stream",
     "text": [
      "0.850584585491\n",
      "0.0105803571429\n"
     ]
    },
    {
     "data": {
      "image/png": "[encoded data removed]",
      "text/plain": [
       "<matplotlib.figure.Figure at 0x7f2f08556c50>"
      ]
     },
     "metadata": {},
     "output_type": "display_data"
    }
   ],
   "source": [
    "model.fit_offline(batch_vectorizer=batch_vectorizer, num_collection_passes=15)\n",
    "plt.plot(model.score_tracker[\"PerplexityScore\"].value[1:])\n",
    "print model.score_tracker[\"SparsityPhiScore\"].last_value\n",
    "print model.score_tracker[\"SparsityThetaScore\"].last_value"
   ]
  },
  {
   "cell_type": "code",
   "execution_count": 67,
   "metadata": {},
   "outputs": [
    {
     "name": "stdout",
     "output_type": "stream",
     "text": [
      "Topic0:  said man come see went littl one hand know say\n",
      "Topic1:  one new give use natur two electr everi end much\n",
      "Topic2:  clare ladi madam natur virgin moral john hawthorn one suffer\n",
      "Topic3:  total nation product parti km per industri runway million chief\n",
      "Topic4:  project one go look distribut like say made state littl\n",
      "Topic5:  said hors got came get harri tom look went fire\n",
      "Topic6:  may result differ work right gener test individu increas one\n",
      "Topic7:  great day men part hous kill shall know paul appear\n",
      "Topic8:  mr miss littl hour villag half boffin look bella quarter\n",
      "Topic9:  may everi even one yet seem mani mind person roman\n",
      "Topic10:  system labour increas product produc manufactur tend american popul per\n",
      "Topic11:  great without everi man one men life among even upon\n",
      "Topic12:  helen gervais holm add lorna cecilia alexina coupeau beauclerc mme\n",
      "Topic13:  subhead chang tariff item mexican transact method textil woven fabric\n",
      "Topic14:  thousand may great gener privat letter without year work receiv\n",
      "Topic15:  said mr go come miss like think got upon say\n",
      "Topic16:  go went look come one project littl tell upon electron\n",
      "Topic17:  said upon come know one ask went hand like make\n",
      "Topic18:  one man may shall day make great even work two\n",
      "Topic19:  emperor roman cicero reign barbarian rome senat provinc julian constantin\n"
     ]
    }
   ],
   "source": [
    "for topic_name in model.topic_names[:20]:\n",
    "    print topic_name + ': ',\n",
    "    tokens = model.score_tracker[\"top_words\"].last_tokens\n",
    "    for word in tokens[topic_name]:    \n",
    "        print word,\n",
    "    print"
   ]
  },
  {
   "cell_type": "code",
   "execution_count": 68,
   "metadata": {},
   "outputs": [],
   "source": [
    "#second_model.dispose()"
   ]
  },
  {
   "cell_type": "code",
   "execution_count": 69,
   "metadata": {},
   "outputs": [],
   "source": [
    "\n",
    "topics = 10\n",
    "second_model = artm.ARTM(num_topics=topics, topic_names=['Topic' + str(i) for i in range(topics)], \n",
    "                  num_document_passes=1, reuse_theta=True, cache_theta=True, seed=-1, class_ids={\"text\":1})\n"
   ]
  },
  {
   "cell_type": "code",
   "execution_count": 70,
   "metadata": {},
   "outputs": [],
   "source": [
    "second_model.scores.add(artm.PerplexityScore(name='PerplexityScore', dictionary='dictionary'), overwrite=True)\n",
    "second_model.scores.add(artm.SparsityPhiScore(name='SparsityPhiScore', class_id='text'), overwrite=True)\n",
    "second_model.scores.add(artm.SparsityThetaScore(name='SparsityThetaScore'), overwrite=True)\n",
    "second_model.scores.add(artm.TopTokensScore(name=\"top_words\", num_tokens=10, class_id=\"text\"), overwrite=True)"
   ]
  },
  {
   "cell_type": "code",
   "execution_count": 71,
   "metadata": {},
   "outputs": [],
   "source": [
    "second_model.initialize('dictionary')"
   ]
  },
  {
   "cell_type": "code",
   "execution_count": 72,
   "metadata": {},
   "outputs": [
    {
     "data": {
      "text/plain": [
       "[<matplotlib.lines.Line2D at 0x7f2f05696650>]"
      ]
     },
     "execution_count": 72,
     "metadata": {},
     "output_type": "execute_result"
    },
    {
     "data": {
      "image/png": "[encoded data removed]",
      "text/plain": [
       "<matplotlib.figure.Figure at 0x7f2ee756ec10>"
      ]
     },
     "metadata": {},
     "output_type": "display_data"
    }
   ],
   "source": [
    "second_model.fit_offline(batch_vectorizer=batch_vectorizer, num_collection_passes=20)\n",
    "plt.plot(second_model.score_tracker[\"PerplexityScore\"].value[1:])"
   ]
  },
  {
   "cell_type": "code",
   "execution_count": 73,
   "metadata": {},
   "outputs": [
    {
     "name": "stdout",
     "output_type": "stream",
     "text": [
      "Topic0:  said know man see one lord say great make come\n",
      "Topic1:  one live said two old make new much see time\n",
      "Topic2:  one two upon look man much go seem littl side\n",
      "Topic3:  one shall parti come love time littl live like project\n",
      "Topic4:  one go like look said made upon littl never even\n",
      "Topic5:  upon said make may great first time man shall never\n",
      "Topic6:  gener may state work one chang time unit provid right\n",
      "Topic7:  like great day know littl look see get come may\n",
      "Topic8:  shall one said thou thi go upon like may god\n",
      "Topic9:  one long may think like made project much everi seem\n"
     ]
    }
   ],
   "source": [
    "for topic_name in second_model.topic_names:\n",
    "    print topic_name + ': ',\n",
    "    tokens = second_model.score_tracker[\"top_words\"].last_tokens\n",
    "    for word in tokens[topic_name]:    \n",
    "        print word,\n",
    "    print\n",
    "    "
   ]
  },
  {
   "cell_type": "code",
   "execution_count": 74,
   "metadata": {},
   "outputs": [
    {
     "name": "stdout",
     "output_type": "stream",
     "text": [
      "0.172046987646\n",
      "0.0\n"
     ]
    }
   ],
   "source": [
    "print second_model.score_tracker[\"SparsityPhiScore\"].last_value\n",
    "print second_model.score_tracker[\"SparsityThetaScore\"].last_value"
   ]
  },
  {
   "cell_type": "code",
   "execution_count": 75,
   "metadata": {},
   "outputs": [],
   "source": [
    "second_model.regularizers.add(artm.SmoothSparsePhiRegularizer(name='SparsePhi', tau=-10000, \n",
    "                                                             dictionary=dictionary),overwrite=True)"
   ]
  },
  {
   "cell_type": "code",
   "execution_count": 76,
   "metadata": {},
   "outputs": [
    {
     "data": {
      "text/plain": [
       "[<matplotlib.lines.Line2D at 0x7f2f05787a90>]"
      ]
     },
     "execution_count": 76,
     "metadata": {},
     "output_type": "execute_result"
    },
    {
     "data": {
      "image/png": "[encoded data removed]",
      "text/plain": [
       "<matplotlib.figure.Figure at 0x7f2f057f9410>"
      ]
     },
     "metadata": {},
     "output_type": "display_data"
    }
   ],
   "source": [
    "second_model.fit_offline(batch_vectorizer=batch_vectorizer, num_collection_passes=15)\n",
    "plt.plot(second_model.score_tracker[\"PerplexityScore\"].value[1:])"
   ]
  },
  {
   "cell_type": "code",
   "execution_count": 77,
   "metadata": {},
   "outputs": [
    {
     "name": "stdout",
     "output_type": "stream",
     "text": [
      "0.762491581748\n",
      "0.0\n"
     ]
    }
   ],
   "source": [
    "print second_model.score_tracker[\"SparsityPhiScore\"].last_value\n",
    "print second_model.score_tracker[\"SparsityThetaScore\"].last_value"
   ]
  },
  {
   "cell_type": "code",
   "execution_count": 56,
   "metadata": {},
   "outputs": [
    {
     "name": "stdout",
     "output_type": "stream",
     "text": [
      "Topic0:  one said upon like look littl man go see shall\n",
      "Topic1:  one project seem work may state upon much new time\n",
      "Topic2:  la gener form part water sever larg small nation number\n",
      "Topic3:  parti chang subhead tariff la articl provid item territori industri\n",
      "Topic4:  one like may upon littl great said time see made\n",
      "Topic5:  one shall said upon like come may man go made\n",
      "Topic6:  unto ye thou per acetylen ga gener nation amori carbid\n",
      "Topic7:  river sever also great part form two parti number larg\n",
      "Topic8:  much seem david quit miss becom home enough yahweh moment\n",
      "Topic9:  power roman may gener form state public number without first\n"
     ]
    }
   ],
   "source": [
    "for topic_name in second_model.topic_names:\n",
    "    print topic_name + ': ',\n",
    "    tokens = second_model.score_tracker[\"top_words\"].last_tokens\n",
    "    for word in tokens[topic_name]:    \n",
    "        print word,\n",
    "    print\n",
    "    "
   ]
  },
  {
   "cell_type": "code",
   "execution_count": 78,
   "metadata": {},
   "outputs": [],
   "source": [
    "model.save(\"model_100\")\n",
    "second_model.save(\"model_10\")"
   ]
  }
 ],
 "metadata": {
  "kernelspec": {
   "display_name": "Python 2",
   "language": "python",
   "name": "python2"
  },
  "language_info": {
   "codemirror_mode": {
    "name": "ipython",
    "version": 2
   },
   "file_extension": ".py",
   "mimetype": "text/x-python",
   "name": "python",
   "nbconvert_exporter": "python",
   "pygments_lexer": "ipython2",
   "version": "2.7.12"
  }
 },
 "nbformat": 4,
 "nbformat_minor": 2
}
